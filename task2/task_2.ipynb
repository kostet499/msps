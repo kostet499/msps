{
 "cells": [
  {
   "cell_type": "code",
   "execution_count": 1,
   "metadata": {},
   "outputs": [],
   "source": [
    "import numpy as np\n",
    "import matplotlib.pyplot as plt\n",
    "import scipy.stats as sps\n",
    "import scipy.optimize as optim\n",
    "import pandas as pd\n",
    "%matplotlib inline"
   ]
  },
  {
   "cell_type": "markdown",
   "metadata": {},
   "source": [
    "### Episode 4"
   ]
  },
  {
   "cell_type": "code",
   "execution_count": 2,
   "metadata": {},
   "outputs": [],
   "source": [
    "def log_k_f(x, k):\n",
    "    n = len(x)\n",
    "    return n * np.log(2 * k) - 3 * np.sum(np.log(k * x + 1))"
   ]
  },
  {
   "cell_type": "code",
   "execution_count": 3,
   "metadata": {},
   "outputs": [],
   "source": [
    "def log_m_f(x, m):\n",
    "    n = len(x)\n",
    "    return n * np.log(m) - 2 * np.sum(np.log(m * x + 1))"
   ]
  },
  {
   "cell_type": "code",
   "execution_count": 4,
   "metadata": {},
   "outputs": [
    {
     "data": {
      "text/html": [
       "<div>\n",
       "<style scoped>\n",
       "    .dataframe tbody tr th:only-of-type {\n",
       "        vertical-align: middle;\n",
       "    }\n",
       "\n",
       "    .dataframe tbody tr th {\n",
       "        vertical-align: top;\n",
       "    }\n",
       "\n",
       "    .dataframe thead th {\n",
       "        text-align: right;\n",
       "    }\n",
       "</style>\n",
       "<table border=\"1\" class=\"dataframe\">\n",
       "  <thead>\n",
       "    <tr style=\"text-align: right;\">\n",
       "      <th></th>\n",
       "      <th>Unnamed: 1</th>\n",
       "      <th>Население</th>\n",
       "      <th>Дата</th>\n",
       "      <th>% от населения Земли</th>\n",
       "    </tr>\n",
       "    <tr>\n",
       "      <th>№</th>\n",
       "      <th></th>\n",
       "      <th></th>\n",
       "      <th></th>\n",
       "      <th></th>\n",
       "    </tr>\n",
       "  </thead>\n",
       "  <tbody>\n",
       "    <tr>\n",
       "      <th>1</th>\n",
       "      <td>КНР</td>\n",
       "      <td>1388024000</td>\n",
       "      <td>5 февраля\\n2018</td>\n",
       "      <td>0.1838</td>\n",
       "    </tr>\n",
       "    <tr>\n",
       "      <th>2</th>\n",
       "      <td>Индия</td>\n",
       "      <td>1342797000</td>\n",
       "      <td>5 февраля\\n2018</td>\n",
       "      <td>0.1778</td>\n",
       "    </tr>\n",
       "    <tr>\n",
       "      <th>3</th>\n",
       "      <td>США</td>\n",
       "      <td>328279000</td>\n",
       "      <td>5 февраля\\n2018</td>\n",
       "      <td>0.0433</td>\n",
       "    </tr>\n",
       "    <tr>\n",
       "      <th>4</th>\n",
       "      <td>Индонезия</td>\n",
       "      <td>266276588</td>\n",
       "      <td>5 февраля\\n2018</td>\n",
       "      <td>0.0353</td>\n",
       "    </tr>\n",
       "    <tr>\n",
       "      <th>5</th>\n",
       "      <td>Пакистан</td>\n",
       "      <td>210068806</td>\n",
       "      <td>5 февраля\\n2018</td>\n",
       "      <td>0.0278</td>\n",
       "    </tr>\n",
       "  </tbody>\n",
       "</table>\n",
       "</div>"
      ],
      "text/plain": [
       "   Unnamed: 1   Население             Дата  % от населения Земли\n",
       "№                                                               \n",
       "1         КНР  1388024000  5 февраля\\n2018                0.1838\n",
       "2       Индия  1342797000  5 февраля\\n2018                0.1778\n",
       "3         США   328279000  5 февраля\\n2018                0.0433\n",
       "4   Индонезия   266276588  5 февраля\\n2018                0.0353\n",
       "5    Пакистан   210068806  5 февраля\\n2018                0.0278"
      ]
     },
     "execution_count": 4,
     "metadata": {},
     "output_type": "execute_result"
    }
   ],
   "source": [
    "df = pd.read_excel('Naselenie.xlsx', index_col=0)\n",
    "df.head()"
   ]
  },
  {
   "cell_type": "code",
   "execution_count": 5,
   "metadata": {},
   "outputs": [],
   "source": [
    "X = np.array(df['Население']) / 10 ** 6\n",
    "X.sort()"
   ]
  },
  {
   "cell_type": "markdown",
   "metadata": {},
   "source": [
    "Посмотрим на гистограмму и уберем выбросы больше миллиарда жителей (Китай, Индия)"
   ]
  },
  {
   "cell_type": "code",
   "execution_count": 6,
   "metadata": {},
   "outputs": [
    {
     "data": {
      "text/plain": [
       "(array([233.,   6.,   1.,   0.,   0.,   0.,   0.,   0.,   0.,   2.]),\n",
       " array([4.90000000e-05, 1.38802444e+02, 2.77604839e+02, 4.16407234e+02,\n",
       "        5.55209629e+02, 6.94012024e+02, 8.32814420e+02, 9.71616815e+02,\n",
       "        1.11041921e+03, 1.24922160e+03, 1.38802400e+03]),\n",
       " <a list of 10 Patch objects>)"
      ]
     },
     "execution_count": 6,
     "metadata": {},
     "output_type": "execute_result"
    },
    {
     "data": {
      "image/png": "[encoded data removed]",
      "text/plain": [
       "<Figure size 432x288 with 1 Axes>"
      ]
     },
     "metadata": {
      "needs_background": "light"
     },
     "output_type": "display_data"
    }
   ],
   "source": [
    "plt.hist(X)"
   ]
  },
  {
   "cell_type": "code",
   "execution_count": 7,
   "metadata": {},
   "outputs": [
    {
     "data": {
      "text/plain": [
       "(array([202.,  19.,   8.,   4.,   1.,   2.,   2.,   0.,   1.,   1.]),\n",
       " array([4.90000000e-05, 3.28279441e+01, 6.56558392e+01, 9.84837343e+01,\n",
       "        1.31311629e+02, 1.64139524e+02, 1.96967420e+02, 2.29795315e+02,\n",
       "        2.62623210e+02, 2.95451105e+02, 3.28279000e+02]),\n",
       " <a list of 10 Patch objects>)"
      ]
     },
     "execution_count": 7,
     "metadata": {},
     "output_type": "execute_result"
    },
    {
     "data": {
      "image/png": "[encoded data removed]",
      "text/plain": [
       "<Figure size 432x288 with 1 Axes>"
      ]
     },
     "metadata": {
      "needs_background": "light"
     },
     "output_type": "display_data"
    }
   ],
   "source": [
    "X_trunc = X[X < 1000]\n",
    "plt.hist(X_trunc)"
   ]
  },
  {
   "cell_type": "code",
   "execution_count": 8,
   "metadata": {},
   "outputs": [],
   "source": [
    "def log_lambda_n(X):\n",
    "    numerator = -optim.minimize(lambda k: -log_k_f(X, k), 1, method='L-BFGS-B', bounds=[(1e-8, np.inf)]).fun\n",
    "    denumerator = -optim.minimize(lambda m: -log_m_f(X, m), 1, method='L-BFGS-B', bounds=[(1e-8, np.inf)]).fun\n",
    "    return numerator - max(numerator, denumerator)"
   ]
  },
  {
   "cell_type": "markdown",
   "metadata": {},
   "source": [
    "Используем теорему Уилкса: $k = 2, s = 1$"
   ]
  },
  {
   "cell_type": "code",
   "execution_count": 9,
   "metadata": {},
   "outputs": [],
   "source": [
    "def rml_test(X, alpha=0.05):\n",
    "    u_1_alpha = sps.chi2.ppf(1 - alpha, 1)\n",
    "    stat = -2 * log_lambda_n(X)\n",
    "    return stat > u_1_alpha"
   ]
  },
  {
   "cell_type": "code",
   "execution_count": 10,
   "metadata": {},
   "outputs": [
    {
     "name": "stdout",
     "output_type": "stream",
     "text": [
      "Reject H_0: [ True]\n"
     ]
    }
   ],
   "source": [
    "print('Reject H_0:', rml_test(X_trunc, 0.05))"
   ]
  },
  {
   "cell_type": "markdown",
   "metadata": {},
   "source": [
    "Как видим, мы отвергли $H_0$. Теперь выберем лучшую функцию распределения из второго класса и наложим на выборку"
   ]
  },
  {
   "cell_type": "code",
   "execution_count": 11,
   "metadata": {},
   "outputs": [],
   "source": [
    "best_m = optim.minimize(lambda m: -log_m_f(X, m), 1, method='L-BFGS-B', bounds=[(1e-8, np.inf)]).x[0]"
   ]
  },
  {
   "cell_type": "code",
   "execution_count": 12,
   "metadata": {},
   "outputs": [
    {
     "data": {
      "text/plain": [
       "<matplotlib.legend.Legend at 0x135cece50>"
      ]
     },
     "execution_count": 12,
     "metadata": {},
     "output_type": "execute_result"
    },
    {
     "data": {
      "image/png": "[encoded data removed]",
      "text/plain": [
       "<Figure size 1080x720 with 1 Axes>"
      ]
     },
     "metadata": {
      "needs_background": "light"
     },
     "output_type": "display_data"
    }
   ],
   "source": [
    "plt.figure(figsize=(15, 10))\n",
    "grid = np.linspace(2, 1400, 800)\n",
    "plt.ylim((0, 0.03))\n",
    "plt.plot(grid, sps.pareto.pdf(grid, 1, -1 / best_m, 1 / best_m), label='H_1')\n",
    "plt.hist(X_trunc, density=True)\n",
    "plt.legend()"
   ]
  },
  {
   "cell_type": "markdown",
   "metadata": {},
   "source": [
    "Потестим наши критерий<br>\n",
    "Заметили, что данные в задаче функции распределения отвечают за распределение Паретто с разными параметрами.<br>\n",
    "Посмотрим на ошибки первого и второго рода"
   ]
  },
  {
   "cell_type": "code",
   "execution_count": 13,
   "metadata": {},
   "outputs": [],
   "source": [
    "def test_reject(it=100, alpha=0.05, size=50):\n",
    "    true_count = 0\n",
    "    for _ in range(it):\n",
    "        sample = sps.pareto.rvs(1, -1, 1, size=size)\n",
    "        if rml_test(sample, alpha)[0]:\n",
    "            true_count += 1\n",
    "    return true_count / it"
   ]
  },
  {
   "cell_type": "code",
   "execution_count": 14,
   "metadata": {},
   "outputs": [
    {
     "name": "stdout",
     "output_type": "stream",
     "text": [
      "Ошибка второго рода: 0.38\n"
     ]
    }
   ],
   "source": [
    "print('Ошибка второго рода:', 1 - test_reject(100, alpha=0.1))"
   ]
  },
  {
   "cell_type": "code",
   "execution_count": 15,
   "metadata": {},
   "outputs": [],
   "source": [
    "def test_not_reject(it=100, alpha=0.05, size=50):\n",
    "    false_count = 0\n",
    "    for _ in range(it):\n",
    "        sample = sps.pareto.rvs(2, -1, 1, size=size)\n",
    "        if not rml_test(sample, alpha)[0]:\n",
    "            false_count += 1\n",
    "    return false_count / it"
   ]
  },
  {
   "cell_type": "code",
   "execution_count": 16,
   "metadata": {},
   "outputs": [
    {
     "name": "stdout",
     "output_type": "stream",
     "text": [
      "Ошибка первого рода: 0.050000000000000044\n"
     ]
    }
   ],
   "source": [
    "print('Ошибка первого рода:', 1 - test_not_reject(100, alpha=0.1))"
   ]
  },
  {
   "cell_type": "markdown",
   "metadata": {},
   "source": [
    "### Episode 3"
   ]
  },
  {
   "cell_type": "markdown",
   "metadata": {},
   "source": [
    "$K$ - есть величина веростности двух классов. Предположение о том, как строить критерий: <br>\n",
    "1. Чтобы ошибка первого рода была alpha, предполагается сгенерировать большое количество выборок $X$ c параметрами, взятыми из априорного распределения, для всех посчитать значение $K$ "
   ]
  },
  {
   "cell_type": "code",
   "execution_count": 17,
   "metadata": {},
   "outputs": [],
   "source": [
    "df3 = np.load('data2_3.npy')"
   ]
  },
  {
   "cell_type": "code",
   "execution_count": 18,
   "metadata": {},
   "outputs": [],
   "source": [
    "N = 13\n",
    "apr_geom = sps.uniform(loc=0, scale=1)\n",
    "apr_pois = sps.uniform(loc=0, scale=N)"
   ]
  },
  {
   "cell_type": "markdown",
   "metadata": {},
   "source": [
    "Denote: $\\sum X_i + 1 = s$, $len(X) = n$ <br> <br>\n",
    "\n",
    "$K = \\frac {B(s - n, n + 1) \\cdot N \\cdot \\times (X_i!) \\cdot n^s} {GammaIncomplete(s, n\\cdot N)} $ <br><br>\n",
    "\n",
    "Лучше наверное логарифмировать из-за факториалов"
   ]
  },
  {
   "cell_type": "code",
   "execution_count": 19,
   "metadata": {},
   "outputs": [],
   "source": [
    "import scipy.special as spc\n",
    "import mpmath"
   ]
  },
  {
   "cell_type": "code",
   "execution_count": 33,
   "metadata": {},
   "outputs": [],
   "source": [
    "def log_K(X):\n",
    "    s = np.sum(X) + 1\n",
    "    n = len(X)\n",
    "    log = np.log\n",
    "    \n",
    "    # log(N) не нужен - так как не функция от выборки\n",
    "    ret = log(spc.beta(s - n, n + 1)) + np.sum(spc.gammaln(X + 1)) + s * log(n)\n",
    "    ret -= log(spc.gammainc(s, n * N)) + spc.gammaln(s)\n",
    "    #ret -= mpmath.log(mpmath.gammainc(s,a=0,b=n * N))\n",
    "        \n",
    "    return ret"
   ]
  },
  {
   "cell_type": "code",
   "execution_count": 36,
   "metadata": {},
   "outputs": [],
   "source": [
    "def build_test(alphas, count=1000, num_samples=50):\n",
    "    logK = sorted([log_K(sps.geom.rvs(p, size=num_samples)) for p in apr_geom.rvs(size=count)])\n",
    "    return np.array([float(logK[int(count * alpha)]) for alpha in alphas])"
   ]
  },
  {
   "cell_type": "code",
   "execution_count": 37,
   "metadata": {},
   "outputs": [
    {
     "name": "stdout",
     "output_type": "stream",
     "text": [
      "[2.0860131  5.5982234  7.83966281]\n"
     ]
    },
    {
     "name": "stderr",
     "output_type": "stream",
     "text": [
      "/Users/coolhatsker/Projects/stuff/homebrew/lib/python3.7/site-packages/ipykernel_launcher.py:8: RuntimeWarning: divide by zero encountered in log\n",
      "  \n"
     ]
    }
   ],
   "source": [
    "alphas = [0.01, 0.05, 0.1]\n",
    "test_values = build_test(alphas)\n",
    "print(test_values)"
   ]
  },
  {
   "cell_type": "code",
   "execution_count": 42,
   "metadata": {},
   "outputs": [
    {
     "name": "stdout",
     "output_type": "stream",
     "text": [
      "[False False  True]\n"
     ]
    }
   ],
   "source": [
    "df_stat = log_K(df3)\n",
    "print(df_stat < test_values)"
   ]
  },
  {
   "cell_type": "markdown",
   "metadata": {},
   "source": [
    "При уровнях значимости 0.01 и 0.05 мы не отвергаем гипотезу о геометрическом распределении, а при 0.1 уже отвергаем. "
   ]
  },
  {
   "cell_type": "code",
   "execution_count": 103,
   "metadata": {},
   "outputs": [
    {
     "data": {
      "text/plain": [
       "[<matplotlib.lines.Line2D at 0x13e481390>]"
      ]
     },
     "execution_count": 103,
     "metadata": {},
     "output_type": "execute_result"
    },
    {
     "data": {
      "image/png": "[encoded data removed]",
      "text/plain": [
       "<Figure size 1080x720 with 1 Axes>"
      ]
     },
     "metadata": {
      "needs_background": "light"
     },
     "output_type": "display_data"
    }
   ],
   "source": [
    "plt.figure(figsize=(15, 10))\n",
    "plt.hist(df3, density=True)\n",
    "plt.plot(sps.geom.pmf(range(0, 30), 0.1))\n",
    "plt.plot(sps.poisson.pmf(range(0, 30), 7.5))"
   ]
  },
  {
   "cell_type": "markdown",
   "metadata": {},
   "source": [
    "По графику явно видно, что геометрическое распределение при больших $p$ делает упор на первые измерения и с уменьшением его становится как бы более ровным, но вот пик между 5 и 10 объяснить, кажется, не может, а в пуассоновском можно подогнать параметр, чтобы попробовать пик объяснить."
   ]
  },
  {
   "cell_type": "markdown",
   "metadata": {},
   "source": [
    "### Episode 2"
   ]
  },
  {
   "cell_type": "markdown",
   "metadata": {},
   "source": [
    "Пускай каждый пациент, пьющий таблетку, это бернуллиевская случайная величина с вероятностью осложнения $p_0$ для плацебо и $p_i$ для другого препарата. $X_i$ - количество осложнений, $n_i$ - количество участников $i$-го препарата <br>\n",
    "\n",
    "Рассмотрим гипотезу: $H_0: p_0 \\le p_i$ против $H_1: p_0 > p_i$. Понятно, что препарат с большой вероятностью хороший, если мы отвергаем $H_0$ на маленьком уровне значимости (в задаче $\\alpha = 0.05$). Рассмотрим критерий: <br>\n",
    "$\\frac {\\hat{p_0} - \\hat{p_i}} {\\sqrt { \\hat{p}(1-\\hat{p})(\\frac{1}{n_0} + \\frac{1}{n_i}) } } > z_{1-\\alpha}$"
   ]
  },
  {
   "cell_type": "markdown",
   "metadata": {},
   "source": [
    "$\\hat{p_i}=\\frac{X_i}{n_i}$<br>\n",
    "$\\hat{p}=\\frac{X_i + X_0}{n_i + n_0}$"
   ]
  },
  {
   "cell_type": "code",
   "execution_count": 109,
   "metadata": {},
   "outputs": [],
   "source": [
    "def test_medicine(n0, x0, ni, xi, name, alpha=0.05):\n",
    "    p0 = x0/n0\n",
    "    pi = xi/ni\n",
    "    p = (x0+xi) / (n0+ni)\n",
    "    stat = (p0-pi) / (np.sqrt(p * (1-p) * (1/n0 + 1/ni) ))\n",
    "    z = sps.norm.ppf(1 - alpha)\n",
    "    if stat > z:\n",
    "        print('%s is a good medicine' % name)\n",
    "    else:\n",
    "        print('I prefer sugar to %s' % name)"
   ]
  },
  {
   "cell_type": "code",
   "execution_count": 112,
   "metadata": {},
   "outputs": [
    {
     "name": "stdout",
     "output_type": "stream",
     "text": [
      "Chlorpromazine is a good medicine\n",
      "I prefer sugar to Dimenhydrinate\n",
      "I prefer sugar to Pentobarbital (100 mg)\n",
      "I prefer sugar to Pentobarbital (150 mg)\n"
     ]
    }
   ],
   "source": [
    "test_medicine(80, 45, 75, 26, 'Chlorpromazine')\n",
    "test_medicine(80, 45, 85, 52, 'Dimenhydrinate')\n",
    "test_medicine(80, 45, 67, 35, 'Pentobarbital (100 mg)')\n",
    "test_medicine(80, 45, 85, 37, 'Pentobarbital (150 mg)')"
   ]
  },
  {
   "cell_type": "code",
   "execution_count": null,
   "metadata": {},
   "outputs": [],
   "source": []
  }
 ],
 "metadata": {
  "kernelspec": {
   "display_name": "Python 3",
   "language": "python",
   "name": "python3"
  },
  "language_info": {
   "codemirror_mode": {
    "name": "ipython",
    "version": 3
   },
   "file_extension": ".py",
   "mimetype": "text/x-python",
   "name": "python",
   "nbconvert_exporter": "python",
   "pygments_lexer": "ipython3",
   "version": "3.7.5"
  }
 },
 "nbformat": 4,
 "nbformat_minor": 2
}
